{
 "cells": [
  {
   "cell_type": "code",
   "execution_count": 1,
   "metadata": {},
   "outputs": [],
   "source": [
    "import unittest\n",
    "import time\n",
    "from selenium import webdriver\n",
    "from selenium.webdriver.chrome.service import Service\n",
    "from webdriver_manager.chrome import ChromeDriverManager\n",
    "from selenium.webdriver.chrome.options import Options\n",
    "from selenium.webdriver.common.by import By\n",
    "from selenium.webdriver.common.keys import Keys\n",
    "from selenium.webdriver.chrome.service import Service\n",
    "import os\n",
    "import requests\n",
    "import requests\n",
    "import urllib\n",
    "from selenium.webdriver.support.ui import WebDriverWait\n",
    "from selenium.webdriver.support import expected_conditions as EC"
   ]
  },
  {
   "cell_type": "code",
   "execution_count": 2,
   "metadata": {},
   "outputs": [],
   "source": [
    "def web_driver():\n",
    "    options = Options()\n",
    "    options.add_argument(\"--verbose\")\n",
    "    options.add_argument('--no-sandbox')\n",
    "    #options.add_argument('--headless')\n",
    "    options.add_argument('--disable-gpu')\n",
    "    options.add_argument(\"--window-size=1920, 1200\")\n",
    "    options.add_argument('--disable-dev-shm-usage')\n",
    "    driver = webdriver.Chrome(options=options)\n",
    "    return driver"
   ]
  },
  {
   "cell_type": "code",
   "execution_count": 3,
   "metadata": {},
   "outputs": [],
   "source": [
    "driver = web_driver()"
   ]
  },
  {
   "cell_type": "code",
   "execution_count": 4,
   "metadata": {},
   "outputs": [],
   "source": [
    "driver.get('https://www.classmates.com/yearbooks/Alameda-High-School/4182755124?page=7')\n",
    "driver.execute_script(\"window.scrollTo(0,document.body.scrollHeight);\")\n",
    "time.sleep(10)"
   ]
  },
  {
   "cell_type": "code",
   "execution_count": 11,
   "metadata": {},
   "outputs": [
    {
     "name": "stdout",
     "output_type": "stream",
     "text": [
      "['https://yb.cmcdn.com/yearbooks/1/4/f/5/14f548096a10e39b9a984e8461acec86/1100/0006.jpg?h=1963e97a07ff362e4e682909385144d9', 'https://yb.cmcdn.com/yearbooks/1/4/f/5/14f548096a10e39b9a984e8461acec86/1100/0007.jpg?h=feece3382b3b2c206914c7cdf6b05b6a', 'https://yb.cmcdn.com/yearbooks/1/4/f/5/14f548096a10e39b9a984e8461acec86/1100/0008.jpg?h=5820b640d0d4b4bb4d286cd3015facb6']\n",
      "Downloading image 1: https://yb.cmcdn.com/yearbooks/1/4/f/5/14f548096a10e39b9a984e8461acec86/1100/0006.jpg?h=1963e97a07ff362e4e682909385144d9\n",
      "Downloading image 2: https://yb.cmcdn.com/yearbooks/1/4/f/5/14f548096a10e39b9a984e8461acec86/1100/0007.jpg?h=feece3382b3b2c206914c7cdf6b05b6a\n",
      "Downloading image 3: https://yb.cmcdn.com/yearbooks/1/4/f/5/14f548096a10e39b9a984e8461acec86/1100/0008.jpg?h=5820b640d0d4b4bb4d286cd3015facb6\n"
     ]
    }
   ],
   "source": [
    "WebDriverWait(driver, 10).until(\n",
    "    EC.presence_of_all_elements_located((By.XPATH, \"//img[contains(@class,'yb-page-image-cache')]\"))\n",
    ")\n",
    "\n",
    "# Find all images with the specified class\n",
    "image_elements = driver.find_elements(By.XPATH, \"//img[contains(@class,'yb-page-image-cache')]\")\n",
    "src = []\n",
    "for img in image_elements:\n",
    "    src.append(img.get_attribute('src'))\n",
    "print(src)\n",
    "\n",
    "# Directory to save images\n",
    "save_dir = \"./images\"\n",
    "if not os.path.exists(save_dir):\n",
    "    os.makedirs(save_dir)\n",
    "\n",
    "# Extract and download images\n",
    "for idx, img in enumerate(image_elements):\n",
    "    src = img.get_attribute('src')  # Get the image URL\n",
    "    if src:\n",
    "        print(f\"Downloading image {idx + 1}: {src}\")\n",
    "        response = requests.get(src, stream=True)\n",
    "        if response.status_code == 200:\n",
    "            # Save the image\n",
    "            image_path = os.path.join(save_dir, f\"image_{idx + 1}.jpg\")\n",
    "            with open(image_path, 'wb') as file:\n",
    "                file.write(response.content)"
   ]
  },
  {
   "cell_type": "code",
   "execution_count": null,
   "metadata": {},
   "outputs": [],
   "source": []
  }
 ],
 "metadata": {
  "kernelspec": {
   "display_name": "Python 3",
   "language": "python",
   "name": "python3"
  },
  "language_info": {
   "codemirror_mode": {
    "name": "ipython",
    "version": 3
   },
   "file_extension": ".py",
   "mimetype": "text/x-python",
   "name": "python",
   "nbconvert_exporter": "python",
   "pygments_lexer": "ipython3",
   "version": "3.12.3"
  }
 },
 "nbformat": 4,
 "nbformat_minor": 2
}
